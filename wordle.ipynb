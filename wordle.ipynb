{
 "cells": [
  {
   "cell_type": "code",
   "execution_count": null,
   "metadata": {
    "collapsed": true,
    "pycharm": {
     "name": "#%%\n",
     "is_executing": true
    }
   },
   "outputs": [],
   "source": [
    "import time\n",
    "\n",
    "from selenium import webdriver\n",
    "from selenium.webdriver.common.by import By\n",
    "from selenium.webdriver.common.keys import Keys\n",
    "from selenium.webdriver.common.action_chains import ActionChains\n",
    "import time\n",
    "import nltk\n",
    "nltk.download(\"words\")"
   ]
  },
  {
   "cell_type": "code",
   "execution_count": 12,
   "outputs": [],
   "source": [
    "words = list(set(nltk.corpus.words.words()))\n",
    "words = [word.lower() for word in words if len(word) == 5]"
   ],
   "metadata": {
    "collapsed": false,
    "pycharm": {
     "name": "#%%\n"
    }
   }
  },
  {
   "cell_type": "code",
   "execution_count": 30,
   "outputs": [],
   "source": [
    "counts = [0]*26\n",
    "\n",
    "# coutning characters\n",
    "for word in words:\n",
    "    for char in word:\n",
    "        counts[ord(char)-97] += 1\n",
    "\n",
    "# normalizing the counts between 0-10\n",
    "counts = [(10*count/max(counts)) for count in counts]\n",
    "\n",
    "def score_word(word):\n",
    "    score = 0\n",
    "    word_set = set(word)\n",
    "    score += 2 * len(word_set)\n",
    "    for char in word_set:\n",
    "        score += counts[ord(char)-97]\n",
    "    return score"
   ],
   "metadata": {
    "collapsed": false,
    "pycharm": {
     "name": "#%%\n"
    }
   }
  },
  {
   "cell_type": "code",
   "execution_count": 95,
   "outputs": [],
   "source": [
    "colors = {'rgba(0, 0, 0, 0)': 'black', 'rgba(58, 58, 60, 1)': 'gray', 'rgba(181, 159, 59, 1)': 'yellow', 'rgba(83, 141, 78, 1)': 'green', 'rgba(18, 18, 19, 1)': 'black'}"
   ],
   "metadata": {
    "collapsed": false,
    "pycharm": {
     "name": "#%%\n"
    }
   }
  },
  {
   "cell_type": "code",
   "execution_count": 127,
   "outputs": [
    {
     "name": "stdout",
     "output_type": "stream",
     "text": [
      "The word is: heady\n"
     ]
    }
   ],
   "source": [
    "# generate a list of words\n",
    "word_scores = sorted([(word, score_word(word)) for word in words], key=lambda x: x[1], reverse=True)\n",
    "\n",
    "# setting up driver\n",
    "chrome_options = webdriver.ChromeOptions()\n",
    "chrome_options.add_argument(\"--incognito\")\n",
    "driver = webdriver.Chrome(options=chrome_options)\n",
    "driver.get(\"https://www.nytimes.com/games/wordle/index.html\")\n",
    "\n",
    "# closing pop-up on arrival\n",
    "element = driver.find_element(By.CLASS_NAME, 'game-icon')\n",
    "element.click()\n",
    "\n",
    "# clicking on page (to input text)\n",
    "element = driver.find_element(By.CLASS_NAME, 'App-module_game__yruqo')\n",
    "element.click()\n",
    "\n",
    "word = None\n",
    "row = 1\n",
    "\n",
    "while not word:\n",
    "    # guessing a word\n",
    "    guess = word_scores.pop(0)[0]\n",
    "    actions = ActionChains(driver)\n",
    "    actions.send_keys(guess + Keys.ENTER)\n",
    "    actions.perform()\n",
    "    actions.send_keys(Keys.BACKSPACE * 5)\n",
    "    actions.perform()\n",
    "    time.sleep(2)\n",
    "\n",
    "    # checking colors\n",
    "    elements = driver.find_elements(By.CLASS_NAME, 'Tile-module_tile__UWEHN')\n",
    "    curr_elements = elements[(row-1)*5:row*5]\n",
    "    curr_colors = [colors[element.value_of_css_property('background-color')] for element in curr_elements]\n",
    "    # word doesn't exist\n",
    "    if curr_colors.count('black') == 5:\n",
    "        continue\n",
    "\n",
    "    # correct word\n",
    "    if curr_colors.count('green') == 5:\n",
    "        word = guess\n",
    "        print('The word is: ' +  word)\n",
    "        break\n",
    "\n",
    "    for i, color in enumerate(curr_colors):\n",
    "        char = guess[i]\n",
    "        if color == 'gray':\n",
    "            word_scores = [(word, score) for word, score in word_scores if char not in word]\n",
    "        elif color == 'yellow':\n",
    "            word_scores = [(word, score) for word, score in word_scores if char in word and word[i] != char]\n",
    "        elif color == 'green':\n",
    "            word_scores = [(word, score) for word, score in word_scores if word[i] == char]\n",
    "\n",
    "    # moving to next row\n",
    "    if row == 6:\n",
    "        print('Failed to find word')\n",
    "        break\n",
    "    else: row += 1\n",
    "\n",
    "time.sleep(1)\n",
    "driver.quit()"
   ],
   "metadata": {
    "collapsed": false,
    "pycharm": {
     "name": "#%%\n"
    }
   }
  }
 ],
 "metadata": {
  "kernelspec": {
   "display_name": "Python 3",
   "language": "python",
   "name": "python3"
  },
  "language_info": {
   "codemirror_mode": {
    "name": "ipython",
    "version": 2
   },
   "file_extension": ".py",
   "mimetype": "text/x-python",
   "name": "python",
   "nbconvert_exporter": "python",
   "pygments_lexer": "ipython2",
   "version": "2.7.6"
  }
 },
 "nbformat": 4,
 "nbformat_minor": 0
}